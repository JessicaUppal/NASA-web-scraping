{
 "cells": [
  {
   "cell_type": "code",
   "execution_count": 1,
   "metadata": {},
   "outputs": [],
   "source": [
    "# Import Dependancies \n",
    "from bs4 import BeautifulSoup as bs\n",
    "from splinter import Browser\n",
    "import pandas as pd\n",
    "from webdriver_manager.chrome import ChromeDriverManager"
   ]
  },
  {
   "cell_type": "code",
   "execution_count": 2,
   "metadata": {
    "scrolled": true
   },
   "outputs": [
    {
     "name": "stderr",
     "output_type": "stream",
     "text": [
      "\n",
      "\n",
      "====== WebDriver manager ======\n",
      "Current google-chrome version is 94.0.4606\n",
      "Get LATEST driver version for 94.0.4606\n",
      "Driver [/Users/jessica/.wdm/drivers/chromedriver/mac64/94.0.4606.61/chromedriver] found in cache\n"
     ]
    }
   ],
   "source": [
    "# Choose Path to Driver \n",
    "browser = Browser('chrome', executable_path=ChromeDriverManager().install(), headless=False)"
   ]
  },
  {
   "cell_type": "markdown",
   "metadata": {},
   "source": [
    "## NASA Mars News"
   ]
  },
  {
   "cell_type": "code",
   "execution_count": 3,
   "metadata": {},
   "outputs": [],
   "source": [
    "# Visit Mars news site \n",
    "url = 'https://redplanetscience.com'\n",
    "browser.visit(url)\n",
    "html = browser.html\n",
    "soup = bs(html, 'html.parser')"
   ]
  },
  {
   "cell_type": "code",
   "execution_count": 4,
   "metadata": {},
   "outputs": [
    {
     "name": "stdout",
     "output_type": "stream",
     "text": [
      "Heat and Dust Help Launch Martian Water Into Space, Scientists Find\n"
     ]
    }
   ],
   "source": [
    "# Retrieve the latest news title\n",
    "news_title = soup.find_all('div',class_ = 'content_title')[0]\n",
    "news_title_latest = news_title.text.strip()\n",
    "print(news_title_latest)"
   ]
  },
  {
   "cell_type": "code",
   "execution_count": 5,
   "metadata": {},
   "outputs": [
    {
     "name": "stdout",
     "output_type": "stream",
     "text": [
      "Scientists using an instrument aboard NASA’s Mars Atmosphere and Volatile EvolutioN, or MAVEN, spacecraft have discovered that water vapor near the surface of the Red Planet is lofted higher into the atmosphere than anyone expected was possible.\n"
     ]
    }
   ],
   "source": [
    "# Retrieve the latest news paragraph\n",
    "news_p = soup.find_all('div',class_ = 'article_teaser_body')[0]\n",
    "latest_news_p = news_p.text.strip()\n",
    "print(latest_news_p)"
   ]
  },
  {
   "cell_type": "markdown",
   "metadata": {},
   "source": [
    "## JPL Mars Space Images - Featured Image "
   ]
  },
  {
   "cell_type": "code",
   "execution_count": 6,
   "metadata": {},
   "outputs": [],
   "source": [
    "# Visit url to scrape\n",
    "url_image = 'https://spaceimages-mars.com'\n",
    "browser.visit(url_image)\n",
    "html = browser.html\n",
    "soup = bs(html,'html.parser')"
   ]
  },
  {
   "cell_type": "code",
   "execution_count": 7,
   "metadata": {},
   "outputs": [
    {
     "name": "stdout",
     "output_type": "stream",
     "text": [
      "https://spaceimages-mars.com/image/featured/mars3.jpg\n"
     ]
    }
   ],
   "source": [
    "# Scrape url for featured image and save in a variable \n",
    "image= soup.find('img',class_='headerimage fade-in')\n",
    "featured_image= image.attrs['src']\n",
    "\n",
    "# full image url \n",
    "featured_image_url= url_image +'/'+ featured_image\n",
    "print(featured_image_url)"
   ]
  },
  {
   "cell_type": "markdown",
   "metadata": {},
   "source": [
    "## Mars Facts"
   ]
  },
  {
   "cell_type": "code",
   "execution_count": 8,
   "metadata": {},
   "outputs": [
    {
     "data": {
      "text/plain": [
       "[                         0                1                2\n",
       " 0  Mars - Earth Comparison             Mars            Earth\n",
       " 1                Diameter:         6,779 km        12,742 km\n",
       " 2                    Mass:  6.39 × 10^23 kg  5.97 × 10^24 kg\n",
       " 3                   Moons:                2                1\n",
       " 4       Distance from Sun:   227,943,824 km   149,598,262 km\n",
       " 5          Length of Year:   687 Earth days      365.24 days\n",
       " 6             Temperature:     -87 to -5 °C      -88 to 58°C,\n",
       "                       0                              1\n",
       " 0  Equatorial Diameter:                       6,792 km\n",
       " 1       Polar Diameter:                       6,752 km\n",
       " 2                 Mass:  6.39 × 10^23 kg (0.11 Earths)\n",
       " 3                Moons:          2 ( Phobos & Deimos )\n",
       " 4       Orbit Distance:       227,943,824 km (1.38 AU)\n",
       " 5         Orbit Period:           687 days (1.9 years)\n",
       " 6  Surface Temperature:                   -87 to -5 °C\n",
       " 7         First Record:              2nd millennium BC\n",
       " 8          Recorded By:           Egyptian astronomers]"
      ]
     },
     "execution_count": 8,
     "metadata": {},
     "output_type": "execute_result"
    }
   ],
   "source": [
    "# Use Pandas to scrape the mars table \n",
    "url = 'https://galaxyfacts-mars.com/'\n",
    "mars_facts = pd.read_html(url)\n",
    "mars_facts"
   ]
  },
  {
   "cell_type": "code",
   "execution_count": 9,
   "metadata": {},
   "outputs": [
    {
     "data": {
      "text/html": [
       "<div>\n",
       "<style scoped>\n",
       "    .dataframe tbody tr th:only-of-type {\n",
       "        vertical-align: middle;\n",
       "    }\n",
       "\n",
       "    .dataframe tbody tr th {\n",
       "        vertical-align: top;\n",
       "    }\n",
       "\n",
       "    .dataframe thead th {\n",
       "        text-align: right;\n",
       "    }\n",
       "</style>\n",
       "<table border=\"1\" class=\"dataframe\">\n",
       "  <thead>\n",
       "    <tr style=\"text-align: right;\">\n",
       "      <th></th>\n",
       "      <th>Description</th>\n",
       "      <th>Mars</th>\n",
       "      <th>Earth</th>\n",
       "    </tr>\n",
       "  </thead>\n",
       "  <tbody>\n",
       "    <tr>\n",
       "      <th>0</th>\n",
       "      <td>Mars - Earth Comparison</td>\n",
       "      <td>Mars</td>\n",
       "      <td>Earth</td>\n",
       "    </tr>\n",
       "    <tr>\n",
       "      <th>1</th>\n",
       "      <td>Diameter:</td>\n",
       "      <td>6,779 km</td>\n",
       "      <td>12,742 km</td>\n",
       "    </tr>\n",
       "    <tr>\n",
       "      <th>2</th>\n",
       "      <td>Mass:</td>\n",
       "      <td>6.39 × 10^23 kg</td>\n",
       "      <td>5.97 × 10^24 kg</td>\n",
       "    </tr>\n",
       "    <tr>\n",
       "      <th>3</th>\n",
       "      <td>Moons:</td>\n",
       "      <td>2</td>\n",
       "      <td>1</td>\n",
       "    </tr>\n",
       "    <tr>\n",
       "      <th>4</th>\n",
       "      <td>Distance from Sun:</td>\n",
       "      <td>227,943,824 km</td>\n",
       "      <td>149,598,262 km</td>\n",
       "    </tr>\n",
       "    <tr>\n",
       "      <th>5</th>\n",
       "      <td>Length of Year:</td>\n",
       "      <td>687 Earth days</td>\n",
       "      <td>365.24 days</td>\n",
       "    </tr>\n",
       "    <tr>\n",
       "      <th>6</th>\n",
       "      <td>Temperature:</td>\n",
       "      <td>-87 to -5 °C</td>\n",
       "      <td>-88 to 58°C</td>\n",
       "    </tr>\n",
       "  </tbody>\n",
       "</table>\n",
       "</div>"
      ],
      "text/plain": [
       "               Description             Mars            Earth\n",
       "0  Mars - Earth Comparison             Mars            Earth\n",
       "1                Diameter:         6,779 km        12,742 km\n",
       "2                    Mass:  6.39 × 10^23 kg  5.97 × 10^24 kg\n",
       "3                   Moons:                2                1\n",
       "4       Distance from Sun:   227,943,824 km   149,598,262 km\n",
       "5          Length of Year:   687 Earth days      365.24 days\n",
       "6             Temperature:     -87 to -5 °C      -88 to 58°C"
      ]
     },
     "execution_count": 9,
     "metadata": {},
     "output_type": "execute_result"
    }
   ],
   "source": [
    "# Convert list to dataframe\n",
    "mars_facts_df = mars_facts[0]\n",
    "mars_facts_df.columns = ['Description', 'Mars', 'Earth']\n",
    "mars_facts_df"
   ]
  },
  {
   "cell_type": "code",
   "execution_count": 10,
   "metadata": {
    "scrolled": true
   },
   "outputs": [
    {
     "name": "stdout",
     "output_type": "stream",
     "text": [
      "<html class=\"\"><head>\n",
      "      <meta charset=\"utf-8\">\n",
      "      <meta name=\"viewport\" content=\"width=device-width, initial-scale=1\">\n",
      "      <link rel=\"stylesheet\" href=\"https://maxcdn.bootstrapcdn.com/bootstrap/4.0.0/css/bootstrap.min.css\">\n",
      "      <!-- <link rel=\"stylesheet\" type=\"text/css\" href=\"css/font.css\"> -->\n",
      "      <link rel=\"stylesheet\" type=\"text/css\" href=\"css/app.css\">\n",
      "      <link rel=\"stylesheet\" type=\"text/css\" href=\"https://stackpath.bootstrapcdn.com/font-awesome/4.7.0/css/font-awesome.min.css\">\n",
      "      <title>Space Image</title>\n",
      "   <style type=\"text/css\">.fancybox-margin{margin-right:0px;}</style></head>\n",
      "   <body>\n",
      "      <div class=\"header\">\n",
      "         <nav class=\"navbar navbar-expand-lg \">\n",
      "            <a class=\"navbar-brand\" href=\"#\"><img id=\"logo\" src=\"image/nasa.png\"><span class=\"logo\">Jet Propulsion Laboratory</span>\n",
      "            <span class=\"logo1\">California Institute of Technology</span></a>\n",
      "            <button class=\"navbar-toggler\" type=\"button\" data-toggle=\"collapse\" data-target=\"#navbarNav\" aria-controls=\"navbarNav\" aria-expanded=\"false\" aria-label=\"Toggle navigation\">\n",
      "            <span class=\"navbar-toggler-icon\"></span>\n",
      "            </button>\n",
      "            <div class=\"collapse navbar-collapse justify-content-end\" id=\"navbarNav\">\n",
      "               <ul class=\"navbar-nav\">\n",
      "                  <li class=\"nav-item active\">\n",
      "                     <a class=\"nav-link\" href=\"#\"><i class=\"fa fa-bars\" aria-hidden=\"true\"></i> &nbsp;&nbsp;MENU &nbsp;&nbsp;<i class=\"fa fa-search\" aria-hidden=\"true\"></i></a>\n",
      "                  </li>\n",
      "               </ul>\n",
      "            </div>\n",
      "         </nav>\n",
      "         <div class=\"floating_text_area\">\n",
      "            <h2 class=\"brand_title\">FEATURED IMAGE</h2>\n",
      "            <h1 class=\"media_feature_title\">Dusty Space Cloud</h1>\n",
      "            <br>\n",
      "           <a target=\"_blank\" class=\"showimg fancybox-thumbs\" href=\"image/featured/mars3.jpg\"> <button class=\"btn btn-outline-light\"> FULL IMAGE</button></a>\n",
      "         </div>\n",
      "      <img class=\"headerimage fade-in\" src=\"image/featured/mars3.jpg\"></div>\n",
      "      <div class=\"search sticky\">\n",
      "         <div class=\"col-md-12\">\n",
      "            <div class=\"row\">\n",
      "               <div class=\"col-md-6\">\n",
      "                  <input type=\"text\" name=\"Search\" placeholder=\"Search\">\n",
      "               </div>\n",
      "               <div class=\"col-md-6\">\n",
      "                  <select class=\"form-select\" id=\"options\" aria-label=\"Default select example\">\n",
      "                     <option selected=\"\" onchange=\"0\">Mars</option>\n",
      "                     <!-- <option data-filter=\"sun\" class=\"button\">Mars</option> -->\n",
      "                     <option data-filter=\"Sun\" class=\"button\">Sun</option>\n",
      "                     <option data-filter=\"earth\" class=\"button\">Earth</option>\n",
      "                     <option data-filter=\"ida\" class=\"button\">Ida</option>\n",
      "                     <option data-filter=\"jupiter\" class=\"button\">Jupiter</option>\n",
      "                     <option data-filter=\"venus\" class=\"button\">Venus</option>\n",
      "                  </select>\n",
      "               </div>\n",
      "            </div>\n",
      "         </div>\n",
      "      </div>\n",
      "      <div class=\"container mt-5\">\n",
      "         <div class=\"col-md-12\">\n",
      "            <div class=\"row\">\n",
      "               <div class=\"col-md-6\">\n",
      "                  <h1>Images</h1>\n",
      "               </div>\n",
      "               <div class=\"col-md-6\" id=\"icon\">\n",
      "                  <div class=\"icon2\"></div>\n",
      "                  <div class=\"icon1\"></div>\n",
      "               </div>\n",
      "            </div>\n",
      "         </div>\n",
      "         <!-- first div -->\n",
      "         <div id=\"filter\" class=\"div1\">\n",
      "            <div class=\"thmbgroup\"><a class=\"fancybox-thumbs\" data-fancybox-group=\"thumb\" href=\"image/mars/Icaria Fossae7.jpg\"><div class=\"thmb\"><img class=\"thumbimg\" src=\"image/mars/Icaria Fossae7.jpg\" alt=\"\"><p class=\"thumbcontent\">January 1, 2020<br>Icaria Fossae7</p></div></a><a class=\"fancybox-thumbs\" data-fancybox-group=\"thumb\" href=\"image/mars/Proctor Crater Dunes 7.jpg\"><div class=\"thmb\"><img class=\"thumbimg\" src=\"image/mars/Proctor Crater Dunes 7.jpg\" alt=\"\"><p class=\"thumbcontent\">December 31, 2020<br>Proctor Crater Dunes</p></div></a><a class=\"fancybox-thumbs\" data-fancybox-group=\"thumb\" href=\"image/mars/Icaria Fossae7.jpg\"><div class=\"thmb\"><img class=\"thumbimg\" src=\"image/mars/Icaria Fossae7.jpg\" alt=\"\"><p class=\"thumbcontent\">December 31, 2020<br>Icaria Fossae</p></div></a><a class=\"fancybox-thumbs\" data-fancybox-group=\"thumb\" href=\"image/mars/Proctor Crater Dunes 7.jpg\"><div class=\"thmb\"><img class=\"thumbimg\" src=\"image/mars/Proctor Crater Dunes 7.jpg\" alt=\"\"><p class=\"thumbcontent\">December 29, 2020<br>Proctor Crater Dunes</p></div></a><a class=\"fancybox-thumbs\" data-fancybox-group=\"thumb\" href=\"image/mars/Proctor Crater Dunes 7.jpg\"><div class=\"thmb\"><img class=\"thumbimg\" src=\"image/mars/Proctor Crater Dunes 7.jpg\" alt=\"\"><p class=\"thumbcontent\">December 28, 2020<br>roctor Crater Dunes</p></div></a><a class=\"fancybox-thumbs\" data-fancybox-group=\"thumb\" href=\"image/mars/Icaria Fossae7.jpg\"><div class=\"thmb\"><img class=\"thumbimg\" src=\"image/mars/Icaria Fossae7.jpg\" alt=\"\"><p class=\"thumbcontent\">December 22, 2020<br>Icaria Fossae</p></div></a><a class=\"fancybox-thumbs\" data-fancybox-group=\"thumb\" href=\"image/mars/Icaria Fossae.jpg\"><div class=\"thmb\"><img class=\"thumbimg\" src=\"image/mars/Icaria Fossae.jpg\" alt=\"\"><p class=\"thumbcontent\">December 21, 2020<br>Icaria Fossae</p></div></a><a class=\"fancybox-thumbs\" data-fancybox-group=\"thumb\" href=\"image/mars/Ariadnes Colles4.jpg\"><div class=\"thmb\"><img class=\"thumbimg\" src=\"image/mars/Ariadnes Colles4.jpg\" alt=\"\"><p class=\"thumbcontent\">December 18, 2020<br>Ariadnes Colles</p></div></a><a class=\"fancybox-thumbs\" data-fancybox-group=\"thumb\" href=\"image/mars/Niger Vallis.jpg\"><div class=\"thmb\"><img class=\"thumbimg\" src=\"image/mars/Niger Vallis.jpg\" alt=\"\"><p class=\"thumbcontent\">December 17, 2020<br>Niger Vallis</p></div></a><a class=\"fancybox-thumbs\" data-fancybox-group=\"thumb\" href=\"image/mars/Proctor Crater Dunes.jpg\"><div class=\"thmb\"><img class=\"thumbimg\" src=\"image/mars/Proctor Crater Dunes.jpg\" alt=\"\"><p class=\"thumbcontent\">December 16, 2020<br>Proctor Crater Dunes</p></div></a><a class=\"fancybox-thumbs\" data-fancybox-group=\"thumb\" href=\"image/mars/Niger Vallis.jpg\"><div class=\"thmb\"><img class=\"thumbimg\" src=\"image/mars/Niger Vallis.jpg\" alt=\"\"><p class=\"thumbcontent\">December 15, 2020<br>Niger Vallis</p></div></a><a class=\"fancybox-thumbs\" data-fancybox-group=\"thumb\" href=\"image/mars/Daedalia Planum.jpg\"><div class=\"thmb\"><img class=\"thumbimg\" src=\"image/mars/Daedalia Planum.jpg\" alt=\"\"><p class=\"thumbcontent\">December 11, 2020<br>Daedalia Planum</p></div></a><a class=\"fancybox-thumbs\" data-fancybox-group=\"thumb\" href=\"image/mars/Sirenum Fossae.jpg\"><div class=\"thmb\"><img class=\"thumbimg\" src=\"image/mars/Sirenum Fossae.jpg\" alt=\"\"><p class=\"thumbcontent\">November,11, 2020<br>Sirenum Fossae</p></div></a><a class=\"fancybox-thumbs\" data-fancybox-group=\"thumb\" href=\"image/mars/Ariadnes Colles4.jpg\"><div class=\"thmb\"><img class=\"thumbimg\" src=\"image/mars/Ariadnes Colles4.jpg\" alt=\"\"><p class=\"thumbcontent\">November,13, 2020<br>Ariadnes Colles</p></div></a><a class=\"fancybox-thumbs\" data-fancybox-group=\"thumb\" href=\"image/mars/South Polar Cap.jpg\"><div class=\"thmb\"><img class=\"thumbimg\" src=\"image/mars/South Polar Cap.jpg\" alt=\"\"><p class=\"thumbcontent\">November,14, 2020<br>South Polar Cap</p></div></a><a class=\"fancybox-thumbs\" data-fancybox-group=\"thumb\" href=\"image/mars/Daedalia Planum.jpg\"><div class=\"thmb\"><img class=\"thumbimg\" src=\"image/mars/Daedalia Planum.jpg\" alt=\"\"><p class=\"thumbcontent\">November,17, 2020<br>Daedalia Planum</p></div></a><a class=\"fancybox-thumbs\" data-fancybox-group=\"thumb\" href=\"image/mars/Ariadnes Colles3.jpg\"><div class=\"thmb\"><img class=\"thumbimg\" src=\"image/mars/Ariadnes Colles3.jpg\" alt=\"\"><p class=\"thumbcontent\">November,11, 2020<br>Ariadnes Colles</p></div></a><a class=\"fancybox-thumbs\" data-fancybox-group=\"thumb\" href=\"image/mars/Atlantis Chaos.jpg\"><div class=\"thmb\"><img class=\"thumbimg\" src=\"image/mars/Atlantis Chaos.jpg\" alt=\"\"><p class=\"thumbcontent\">November,09, 2020<br>Atlantis Chaos</p></div></a><a class=\"fancybox-thumbs\" data-fancybox-group=\"thumb\" href=\"image/mars/Daedalia Planum.jpg\"><div class=\"thmb\"><img class=\"thumbimg\" src=\"image/mars/Daedalia Planum.jpg\" alt=\"\"><p class=\"thumbcontent\">January 1, 2020<br>Daedalia Planum</p></div></a><a class=\"fancybox-thumbs\" data-fancybox-group=\"thumb\" href=\"image/mars/Icaria Fossae.jpg\"><div class=\"thmb\"><img class=\"thumbimg\" src=\"image/mars/Icaria Fossae.jpg\" alt=\"\"><p class=\"thumbcontent\">January 1, 2020<br>Icaria Fossae</p></div></a><a class=\"fancybox-thumbs\" data-fancybox-group=\"thumb\" href=\"image/mars/Niger Vallis.jpg\"><div class=\"thmb\"><img class=\"thumbimg\" src=\"image/mars/Niger Vallis.jpg\" alt=\"\"><p class=\"thumbcontent\">January 1, 2020<br>Niger Vallis</p></div></a><a class=\"fancybox-thumbs\" data-fancybox-group=\"thumb\" href=\"image/mars/Proctor Crater Dunes.jpg\"><div class=\"thmb\"><img class=\"thumbimg\" src=\"image/mars/Proctor Crater Dunes.jpg\" alt=\"\"><p class=\"thumbcontent\">January 1, 2020<br>Proctor Crater Dunes</p></div></a><a class=\"fancybox-thumbs\" data-fancybox-group=\"thumb\" href=\"image/mars/Reull Vallis.jpg\"><div class=\"thmb\"><img class=\"thumbimg\" src=\"image/mars/Reull Vallis.jpg\" alt=\"\"><p class=\"thumbcontent\">January 1, 2020<br>Reull Vallis</p></div></a><a class=\"fancybox-thumbs\" data-fancybox-group=\"thumb\" href=\"image/mars/Ariadnes Colles3.jpg\"><div class=\"thmb\"><img class=\"thumbimg\" src=\"image/mars/Ariadnes Colles3.jpg\" alt=\"\"><p class=\"thumbcontent\">January 1, 2020<br>Ariadnes Colles</p></div></a><a class=\"fancybox-thumbs\" data-fancybox-group=\"thumb\" href=\"image/mars/Sirenum Fossae.jpg\"><div class=\"thmb\"><img class=\"thumbimg\" src=\"image/mars/Sirenum Fossae.jpg\" alt=\"\"><p class=\"thumbcontent\">January 1, 2020<br>Sirenum Fossae</p></div></a><a class=\"fancybox-thumbs\" data-fancybox-group=\"thumb\" href=\"image/mars/South Polar Cap.jpg\"><div class=\"thmb\"><img class=\"thumbimg\" src=\"image/mars/South Polar Cap.jpg\" alt=\"\"><p class=\"thumbcontent\">January 1, 2020<br>South Polar Cap</p></div></a><a class=\"fancybox-thumbs\" data-fancybox-group=\"thumb\" href=\"image/mars/Niger Vallis.jpg\"><div class=\"thmb\"><img class=\"thumbimg\" src=\"image/mars/Niger Vallis.jpg\" alt=\"\"><p class=\"thumbcontent\">January 1, 2020<br>Niger Vallis</p></div></a><a class=\"fancybox-thumbs\" data-fancybox-group=\"thumb\" href=\"image/mars/Daedalia Planum.jpg\"><div class=\"thmb\"><img class=\"thumbimg\" src=\"image/mars/Daedalia Planum.jpg\" alt=\"\"><p class=\"thumbcontent\">January 1, 2020<br>Daedalia Planum</p></div></a><a class=\"fancybox-thumbs\" data-fancybox-group=\"thumb\" href=\"image/mars/Icaria Fossae.jpg\"><div class=\"thmb\"><img class=\"thumbimg\" src=\"image/mars/Icaria Fossae.jpg\" alt=\"\"><p class=\"thumbcontent\">January 1, 2020<br>Icaria Fossae</p></div></a><a class=\"fancybox-thumbs\" data-fancybox-group=\"thumb\" href=\"image/mars/Ariadnes Colles4.jpg\"><div class=\"thmb\"><img class=\"thumbimg\" src=\"image/mars/Ariadnes Colles4.jpg\" alt=\"\"><p class=\"thumbcontent\">January 1, 2020<br>Ariadnes Colles</p></div></a><a class=\"fancybox-thumbs\" data-fancybox-group=\"thumb\" href=\"image/mars/South Polar Cap.jpg\"><div class=\"thmb\"><img class=\"thumbimg\" src=\"image/mars/South Polar Cap.jpg\" alt=\"\"><p class=\"thumbcontent\">January 1, 2020<br>South Polar Cap</p></div></a><a class=\"fancybox-thumbs\" data-fancybox-group=\"thumb\" href=\"image/mars/Daedalia Planum.jpg\"><div class=\"thmb\"><img class=\"thumbimg\" src=\"image/mars/Daedalia Planum.jpg\" alt=\"\"><p class=\"thumbcontent\">January 1, 2020<br>Daedalia Planum</p></div></a></div>\n",
      "         </div>\n",
      "         <!-- first div ends -->\n",
      "         <!-- second div starts -->\n",
      "         <div id=\"column\" class=\"col-md-12  grid-margin\">\n",
      "            <ul class=\"post-list\">\n",
      "               <li class=\"post-heading\"></li>\n",
      "            </ul>\n",
      "         </div>\n",
      "         <!-- second div starts -->\n",
      "      </div>\n",
      "      <div class=\"first imgcontainer mt-3\">\n",
      "         <div class=\"col-md-12\">\n",
      "            <div class=\"row\">\n",
      "               <div class=\"col-md-3\">\n",
      "                  <img id=\"pic\" src=\"\">\n",
      "               </div>\n",
      "            </div>\n",
      "         </div>\n",
      "      </div>\n",
      "      <!-- end -->\n",
      "      <div class=\"module_gallery container\">\n",
      "         <div class=\"col-md-12\">\n",
      "            <div class=\"row\">\n",
      "               <div class=\"col-md-6\">\n",
      "                  <div class=\"card\">\n",
      "                     <img class=\"card-img-top\" src=\"https://www.jpl.nasa.gov/assets/images/content/tmp/images/jpl_photojournal(3x1).jpg\" alt=\"Card image cap\">\n",
      "                     <div class=\"card-body\">\n",
      "                        <h5 class=\"card-title\">JPL Photojournal</h5>\n",
      "                        <p class=\"card-text\">Access to the full library of publicly released images from various Solar System exploration programs</p>\n",
      "                     </div>\n",
      "                  </div>\n",
      "               </div>\n",
      "               <div class=\"col-md-6\">\n",
      "                  <div class=\"card\">\n",
      "                     <img class=\"card-img-top\" src=\"https://www.jpl.nasa.gov/assets/images/content/tmp/images/nasa_images(3x1).jpg\" alt=\"Card image cap\">\n",
      "                     <div class=\"card-body\">\n",
      "                        <h5 class=\"card-title\">Great images in NASA</h5>\n",
      "                        <p class=\"card-text\">A selection of the best-known images from a half-century of exploration and discovery</p>\n",
      "                     </div>\n",
      "                  </div>\n",
      "               </div>\n",
      "            </div>\n",
      "         </div>\n",
      "      </div>\n",
      "      <div class=\"multi_teaser\">\n",
      "         <div class=\"container\">\n",
      "            <h1>You Might Also Like</h1>\n",
      "            <div class=\"col-md-12 mt-5\">\n",
      "               <div class=\"row\">\n",
      "                  <div class=\"col-md-4\">\n",
      "                     <div class=\"card\">\n",
      "                        <img class=\"card-img-top\" src=\"https://imagecache.jpl.nasa.gov/images/640x350/C1-PIA24304---CatScanMars-16-640x350.gif\" alt=\"Card image cap\">\n",
      "                        <div class=\"card-body\">\n",
      "                           <p class=\"card-text\">Access to the full library of publicly released images from various Solar System exploration programs</p>\n",
      "                        </div>\n",
      "                     </div>\n",
      "                  </div>\n",
      "                  <div class=\"col-md-4\">\n",
      "                     <div class=\"card\">\n",
      "                        <img class=\"card-img-top\" src=\"https://imagecache.jpl.nasa.gov/images/640x350/PIA23491-16-640x350.jpg\" alt=\"Card image cap\">\n",
      "                        <div class=\"card-body\">\n",
      "                           <p class=\"card-text\">Access to the full library of publicly released images from various Solar System exploration programs</p>\n",
      "                        </div>\n",
      "                     </div>\n",
      "                  </div>\n",
      "                  <div class=\"col-md-4\">\n",
      "                     <div class=\"card\">\n",
      "                        <img class=\"card-img-top\" src=\"https://imagecache.jpl.nasa.gov/images/640x350/C1-PIA23180-16-640x350.gif\" alt=\"Card image cap\">\n",
      "                        <div class=\"card-body\">\n",
      "                           <p class=\"card-text\">Access to the full library of publicly released images from various Solar System exploration programs</p>\n",
      "                        </div>\n",
      "                     </div>\n",
      "                  </div>\n",
      "               </div>\n",
      "            </div>\n",
      "         </div>\n",
      "      </div>\n",
      "      <div class=\"footer \">\n",
      "         <div class=\"container\">\n",
      "            <div class=\"col-md-12\">\n",
      "               <div class=\"row\">\n",
      "                  <div class=\"col-md-3\">\n",
      "                     <h4>About JPL</h4>\n",
      "                     <ul>\n",
      "                        <li>About JPL</li>\n",
      "                        <li>JPL Vision</li>\n",
      "                        <li>Executive Council</li>\n",
      "                        <li>History</li>\n",
      "                     </ul>\n",
      "                  </div>\n",
      "                  <div class=\"col-md-3\">\n",
      "                     <h4>Education</h4>\n",
      "                     <ul>\n",
      "                        <li>Intern</li>\n",
      "                        <li>Learn</li>\n",
      "                        <li>Teach</li>\n",
      "                        <li>News</li>\n",
      "                     </ul>\n",
      "                  </div>\n",
      "                  <div class=\"col-md-3\">\n",
      "                     <h4>Our Sites</h4>\n",
      "                     <ul>\n",
      "                        <li>Asteroid Watch</li>\n",
      "                        <li>Basics of Spaceflight</li>\n",
      "                        <li>Cassini - Mission to Saturn</li>\n",
      "                        <li>Climate Kids</li>\n",
      "                     </ul>\n",
      "                  </div>\n",
      "                  <div class=\"col-md-3\">\n",
      "                     <h4>Galleries</h4>\n",
      "                     <ul>\n",
      "                        <li>JPL Space Images</li>\n",
      "                        <li>Videos</li>\n",
      "                        <li>Infographics</li>\n",
      "                        <li>Photojournal</li>\n",
      "                     </ul>\n",
      "                  </div>\n",
      "               </div>\n",
      "            </div>\n",
      "         </div>\n",
      "      </div>\n",
      "<!--<div class=\"showFullimage\">\n",
      "\t<button class=\"btn btn-outline-light hideimage\" onclick=hideimage()> Close</button>\n",
      "\t<img class=\"fullimage fade-in\" src=\"\">\n",
      "</div>-->\n",
      "      <!-- <script src=\"js/jquery.easeScroll.js\"></script>  -->\n",
      "      <script src=\"js/jquery-3.5.1.min.js\"></script>\n",
      "      <!-- <script src=\"js/jquery-3.2.1.slim.min.js\"></script> -->\n",
      "      <script src=\"js/demo.js\"></script>\n",
      "      <!-- <script src=\"js/app.js\"></script> -->\n",
      "      <script src=\"https://cdnjs.cloudflare.com/ajax/libs/popper.js/1.12.9/umd/popper.min.js\"></script>\n",
      "      <script src=\"https://maxcdn.bootstrapcdn.com/bootstrap/4.0.0/js/bootstrap.min.js\"></script>\n",
      "      <script type=\"text/javascript\" src=\"js/fancyBox/jquery.fancybox.pack.js?v=2.1.5\"></script>\n",
      "      <link rel=\"stylesheet\" type=\"text/css\" href=\"js/fancyBox/jquery.fancybox.css?v=2.1.5\" media=\"screen\">\n",
      "      <link rel=\"stylesheet\" type=\"text/css\" href=\"js/fancyBox/helpers/jquery.fancybox-thumbs.css?v=1.0.7\">\n",
      "      <script type=\"text/javascript\" src=\"js/fancyBox/helpers/jquery.fancybox-thumbs.js?v=1.0.7\"></script>\n",
      "   \n",
      "</body></html>\n"
     ]
    }
   ],
   "source": [
    "# Convert the dataframe to a HTML \n",
    "html_table = mars_facts_df.to_html()\n",
    "print(html)"
   ]
  },
  {
   "cell_type": "markdown",
   "metadata": {},
   "source": [
    "## Mars Hemispheres"
   ]
  },
  {
   "cell_type": "code",
   "execution_count": 11,
   "metadata": {},
   "outputs": [
    {
     "name": "stderr",
     "output_type": "stream",
     "text": [
      "\n",
      "\n",
      "====== WebDriver manager ======\n",
      "Current google-chrome version is 94.0.4606\n",
      "Get LATEST driver version for 94.0.4606\n",
      "Driver [/Users/jessica/.wdm/drivers/chromedriver/mac64/94.0.4606.61/chromedriver] found in cache\n"
     ]
    }
   ],
   "source": [
    "# Choose Path to Driver \n",
    "browser = Browser('chrome', executable_path=ChromeDriverManager().install(), headless=False)"
   ]
  },
  {
   "cell_type": "code",
   "execution_count": 12,
   "metadata": {},
   "outputs": [],
   "source": [
    "url = 'https://marshemispheres.com/'\n",
    "browser.visit(url)"
   ]
  },
  {
   "cell_type": "code",
   "execution_count": 13,
   "metadata": {},
   "outputs": [],
   "source": [
    "html = browser.html\n",
    "soup = bs(html, 'html.parser')"
   ]
  },
  {
   "cell_type": "code",
   "execution_count": 14,
   "metadata": {},
   "outputs": [],
   "source": [
    "# Get the hemisphere titles and their urls and append to list\n",
    "\n",
    "hemisphere_url = []\n",
    "\n",
    "category = soup.find(\"div\", class_ = \"result-list\" )\n",
    "hemispheres =category.find_all(\"div\", class_=\"item\")\n",
    "\n",
    "for hemisphere in hemispheres:\n",
    "    title = hemisphere.find('h3').text\n",
    "    title = title.strip(\"Enhanced\")\n",
    "    last_link = hemisphere.find(\"a\")[\"href\"]\n",
    "    image_link = \"https://marshemispheres.com/\" + last_link    \n",
    "    browser.visit(image_link)\n",
    "    hemisphere_html = browser.html\n",
    "    soup = bs(hemisphere_html, 'html.parser')\n",
    "    downloads = soup.find(\"div\", class_=\"downloads\")\n",
    "    image_url = downloads.find(\"a\")[\"href\"]\n",
    "    hemisphere_url.append({\"title\": title, \"img_url\": image_url})\n"
   ]
  },
  {
   "cell_type": "code",
   "execution_count": 15,
   "metadata": {
    "scrolled": true
   },
   "outputs": [
    {
     "data": {
      "text/plain": [
       "[{'title': 'Cerberus Hemisphere ', 'img_url': 'images/full.jpg'},\n",
       " {'title': 'Schiaparelli Hemisphere ',\n",
       "  'img_url': 'images/schiaparelli_enhanced-full.jpg'},\n",
       " {'title': 'Syrtis Major Hemisphere ',\n",
       "  'img_url': 'images/syrtis_major_enhanced-full.jpg'},\n",
       " {'title': 'Valles Marineris Hemisphere ',\n",
       "  'img_url': 'images/valles_marineris_enhanced-full.jpg'}]"
      ]
     },
     "execution_count": 15,
     "metadata": {},
     "output_type": "execute_result"
    }
   ],
   "source": [
    "hemisphere_url"
   ]
  },
  {
   "cell_type": "code",
   "execution_count": 21,
   "metadata": {},
   "outputs": [
    {
     "data": {
      "text/plain": [
       "<bound method BaseWebDriver.quit of <splinter.driver.webdriver.chrome.WebDriver object at 0x7fe940834070>>"
      ]
     },
     "execution_count": 21,
     "metadata": {},
     "output_type": "execute_result"
    }
   ],
   "source": [
    "browser.quit"
   ]
  },
  {
   "cell_type": "code",
   "execution_count": null,
   "metadata": {},
   "outputs": [],
   "source": []
  }
 ],
 "metadata": {
  "kernelspec": {
   "display_name": "Python 3",
   "language": "python",
   "name": "python3"
  },
  "language_info": {
   "codemirror_mode": {
    "name": "ipython",
    "version": 3
   },
   "file_extension": ".py",
   "mimetype": "text/x-python",
   "name": "python",
   "nbconvert_exporter": "python",
   "pygments_lexer": "ipython3",
   "version": "3.8.8"
  }
 },
 "nbformat": 4,
 "nbformat_minor": 2
}
